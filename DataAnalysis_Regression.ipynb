{
 "cells": [
  {
   "cell_type": "code",
   "execution_count": 1,
   "metadata": {},
   "outputs": [],
   "source": [
    "import pandas as pd"
   ]
  },
  {
   "cell_type": "code",
   "execution_count": 3,
   "metadata": {},
   "outputs": [],
   "source": [
    "#read the data\n",
    "df = pd.read_csv(\"C:\\\\Users\\\\17063\\\\OneDrive - University of Georgia\\\\UGA new\\\\Spring 2022\\\\cross cultural psychology\\\\Final project\\\\Journal of culture and psychlogy\\\\Data S2.csv\")"
   ]
  },
  {
   "cell_type": "code",
   "execution_count": 4,
   "metadata": {},
   "outputs": [
    {
     "data": {
      "text/html": [
       "<div>\n",
       "<style scoped>\n",
       "    .dataframe tbody tr th:only-of-type {\n",
       "        vertical-align: middle;\n",
       "    }\n",
       "\n",
       "    .dataframe tbody tr th {\n",
       "        vertical-align: top;\n",
       "    }\n",
       "\n",
       "    .dataframe thead th {\n",
       "        text-align: right;\n",
       "    }\n",
       "</style>\n",
       "<table border=\"1\" class=\"dataframe\">\n",
       "  <thead>\n",
       "    <tr style=\"text-align: right;\">\n",
       "      <th></th>\n",
       "      <th>Alpha_3</th>\n",
       "      <th>Country_or_Territory</th>\n",
       "      <th>Alpha_2</th>\n",
       "      <th>GCI</th>\n",
       "      <th>Average.GDP</th>\n",
       "      <th>No_Epidemics</th>\n",
       "      <th>Death_Epidemics</th>\n",
       "      <th>No_Natural_Disasters</th>\n",
       "      <th>Death_Natural_Disasters</th>\n",
       "      <th>average_population</th>\n",
       "      <th>Mortality_Epidemics</th>\n",
       "      <th>Mortality_Natural Disasters</th>\n",
       "      <th>Average.GDP_INT</th>\n",
       "      <th>No_Epidemics_INT</th>\n",
       "      <th>No_Natural_Disasters_INT</th>\n",
       "      <th>Mortality_Epidemics_INT</th>\n",
       "      <th>Mortality_Natural Disasters_INT</th>\n",
       "      <th>Residual GCI</th>\n",
       "    </tr>\n",
       "  </thead>\n",
       "  <tbody>\n",
       "    <tr>\n",
       "      <th>0</th>\n",
       "      <td>ABW</td>\n",
       "      <td>Aruba</td>\n",
       "      <td>AW</td>\n",
       "      <td>-0.93</td>\n",
       "      <td>1.106846e+09</td>\n",
       "      <td>0</td>\n",
       "      <td>0</td>\n",
       "      <td>0</td>\n",
       "      <td>0</td>\n",
       "      <td>6.512649e+04</td>\n",
       "      <td>0.000000</td>\n",
       "      <td>0.000000</td>\n",
       "      <td>-0.842</td>\n",
       "      <td>-2.714</td>\n",
       "      <td>-2.714</td>\n",
       "      <td>-2.714</td>\n",
       "      <td>-2.714</td>\n",
       "      <td>-0.066289</td>\n",
       "    </tr>\n",
       "    <tr>\n",
       "      <th>1</th>\n",
       "      <td>AFG</td>\n",
       "      <td>Afghanistan</td>\n",
       "      <td>AF</td>\n",
       "      <td>1.25</td>\n",
       "      <td>1.868414e+09</td>\n",
       "      <td>8</td>\n",
       "      <td>877</td>\n",
       "      <td>51</td>\n",
       "      <td>13749</td>\n",
       "      <td>1.201284e+07</td>\n",
       "      <td>7.300521</td>\n",
       "      <td>114.452528</td>\n",
       "      <td>-0.553</td>\n",
       "      <td>0.941</td>\n",
       "      <td>1.005</td>\n",
       "      <td>0.332</td>\n",
       "      <td>0.805</td>\n",
       "      <td>0.477220</td>\n",
       "    </tr>\n",
       "    <tr>\n",
       "      <th>2</th>\n",
       "      <td>AGO</td>\n",
       "      <td>Angola</td>\n",
       "      <td>AO</td>\n",
       "      <td>0.85</td>\n",
       "      <td>7.308424e+09</td>\n",
       "      <td>7</td>\n",
       "      <td>1146</td>\n",
       "      <td>10</td>\n",
       "      <td>59</td>\n",
       "      <td>9.234334e+06</td>\n",
       "      <td>12.410207</td>\n",
       "      <td>0.638920</td>\n",
       "      <td>0.154</td>\n",
       "      <td>0.861</td>\n",
       "      <td>-0.375</td>\n",
       "      <td>0.522</td>\n",
       "      <td>-0.786</td>\n",
       "      <td>0.487443</td>\n",
       "    </tr>\n",
       "    <tr>\n",
       "      <th>3</th>\n",
       "      <td>ALB</td>\n",
       "      <td>Albania</td>\n",
       "      <td>AL</td>\n",
       "      <td>-0.10</td>\n",
       "      <td>2.127809e+09</td>\n",
       "      <td>1</td>\n",
       "      <td>7</td>\n",
       "      <td>19</td>\n",
       "      <td>715</td>\n",
       "      <td>2.600428e+06</td>\n",
       "      <td>0.269186</td>\n",
       "      <td>27.495469</td>\n",
       "      <td>-0.477</td>\n",
       "      <td>-0.507</td>\n",
       "      <td>0.208</td>\n",
       "      <td>-0.127</td>\n",
       "      <td>0.433</td>\n",
       "      <td>-0.179547</td>\n",
       "    </tr>\n",
       "    <tr>\n",
       "      <th>4</th>\n",
       "      <td>ARE</td>\n",
       "      <td>UnitedArabEmirates</td>\n",
       "      <td>AE</td>\n",
       "      <td>-0.14</td>\n",
       "      <td>4.924394e+10</td>\n",
       "      <td>0</td>\n",
       "      <td>0</td>\n",
       "      <td>0</td>\n",
       "      <td>0</td>\n",
       "      <td>1.186788e+06</td>\n",
       "      <td>0.000000</td>\n",
       "      <td>0.000000</td>\n",
       "      <td>0.823</td>\n",
       "      <td>-2.381</td>\n",
       "      <td>-2.381</td>\n",
       "      <td>-2.381</td>\n",
       "      <td>-2.381</td>\n",
       "      <td>1.300264</td>\n",
       "    </tr>\n",
       "  </tbody>\n",
       "</table>\n",
       "</div>"
      ],
      "text/plain": [
       "  Alpha_3 Country_or_Territory Alpha_2   GCI   Average.GDP  No_Epidemics  \\\n",
       "0     ABW                Aruba      AW -0.93  1.106846e+09             0   \n",
       "1     AFG          Afghanistan      AF  1.25  1.868414e+09             8   \n",
       "2     AGO               Angola      AO  0.85  7.308424e+09             7   \n",
       "3     ALB              Albania      AL -0.10  2.127809e+09             1   \n",
       "4     ARE   UnitedArabEmirates      AE -0.14  4.924394e+10             0   \n",
       "\n",
       "   Death_Epidemics  No_Natural_Disasters  Death_Natural_Disasters  \\\n",
       "0                0                     0                        0   \n",
       "1              877                    51                    13749   \n",
       "2             1146                    10                       59   \n",
       "3                7                    19                      715   \n",
       "4                0                     0                        0   \n",
       "\n",
       "   average_population  Mortality_Epidemics  Mortality_Natural Disasters  \\\n",
       "0        6.512649e+04             0.000000                     0.000000   \n",
       "1        1.201284e+07             7.300521                   114.452528   \n",
       "2        9.234334e+06            12.410207                     0.638920   \n",
       "3        2.600428e+06             0.269186                    27.495469   \n",
       "4        1.186788e+06             0.000000                     0.000000   \n",
       "\n",
       "   Average.GDP_INT  No_Epidemics_INT  No_Natural_Disasters_INT  \\\n",
       "0           -0.842            -2.714                    -2.714   \n",
       "1           -0.553             0.941                     1.005   \n",
       "2            0.154             0.861                    -0.375   \n",
       "3           -0.477            -0.507                     0.208   \n",
       "4            0.823            -2.381                    -2.381   \n",
       "\n",
       "   Mortality_Epidemics_INT  Mortality_Natural Disasters_INT  Residual GCI  \n",
       "0                   -2.714                           -2.714     -0.066289  \n",
       "1                    0.332                            0.805      0.477220  \n",
       "2                    0.522                           -0.786      0.487443  \n",
       "3                   -0.127                            0.433     -0.179547  \n",
       "4                   -2.381                           -2.381      1.300264  "
      ]
     },
     "execution_count": 4,
     "metadata": {},
     "output_type": "execute_result"
    }
   ],
   "source": [
    "#check the data\n",
    "df.head()"
   ]
  },
  {
   "cell_type": "code",
   "execution_count": 5,
   "metadata": {},
   "outputs": [
    {
     "data": {
      "text/plain": [
       "Alpha_3                             object\n",
       "Country_or_Territory                object\n",
       "Alpha_2                             object\n",
       "GCI                                float64\n",
       "Average.GDP                        float64\n",
       "No_Epidemics                         int64\n",
       "Death_Epidemics                      int64\n",
       "No_Natural_Disasters                 int64\n",
       "Death_Natural_Disasters              int64\n",
       "average_population                 float64\n",
       "Mortality_Epidemics                float64\n",
       "Mortality_Natural Disasters        float64\n",
       "Average.GDP_INT                    float64\n",
       "No_Epidemics_INT                   float64\n",
       "No_Natural_Disasters_INT           float64\n",
       "Mortality_Epidemics_INT            float64\n",
       "Mortality_Natural Disasters_INT    float64\n",
       "Residual GCI                       float64\n",
       "dtype: object"
      ]
     },
     "execution_count": 5,
     "metadata": {},
     "output_type": "execute_result"
    }
   ],
   "source": [
    "df.dtypes"
   ]
  },
  {
   "cell_type": "code",
   "execution_count": 6,
   "metadata": {},
   "outputs": [
    {
     "name": "stdout",
     "output_type": "stream",
     "text": [
      "Alpha_3                            0\n",
      "Country_or_Territory               0\n",
      "Alpha_2                            1\n",
      "GCI                                0\n",
      "Average.GDP                        3\n",
      "No_Epidemics                       0\n",
      "Death_Epidemics                    0\n",
      "No_Natural_Disasters               0\n",
      "Death_Natural_Disasters            0\n",
      "average_population                 1\n",
      "Mortality_Epidemics                1\n",
      "Mortality_Natural Disasters        1\n",
      "Average.GDP_INT                    3\n",
      "No_Epidemics_INT                   0\n",
      "No_Natural_Disasters_INT           0\n",
      "Mortality_Epidemics_INT            1\n",
      "Mortality_Natural Disasters_INT    1\n",
      "Residual GCI                       3\n",
      "dtype: int64\n"
     ]
    }
   ],
   "source": [
    "#check missing data\n",
    "print(df.isnull().sum())\n"
   ]
  },
  {
   "cell_type": "code",
   "execution_count": 7,
   "metadata": {},
   "outputs": [],
   "source": [
    "#check teh normality of the data\n",
    "import numpy as np \n",
    "import scipy.stats as stats\n"
   ]
  },
  {
   "cell_type": "code",
   "execution_count": 9,
   "metadata": {},
   "outputs": [
    {
     "name": "stdout",
     "output_type": "stream",
     "text": [
      "Test statistic: 0.21626591682434082\n",
      "p-value: 2.7470349613301732e-27\n"
     ]
    }
   ],
   "source": [
    "df.dropna(subset=['Average.GDP'], inplace=True)\n",
    "stat, p = stats.shapiro(df['Average.GDP'])\n",
    "print('Test statistic:', stat)\n",
    "print('p-value:', p)\n"
   ]
  },
  {
   "cell_type": "code",
   "execution_count": 10,
   "metadata": {},
   "outputs": [
    {
     "name": "stdout",
     "output_type": "stream",
     "text": [
      "Test statistic: 0.6416782140731812\n",
      "p-value: 1.5745959401436255e-19\n"
     ]
    }
   ],
   "source": [
    "stat, p = stats.shapiro(df['No_Epidemics'])\n",
    "print('Test statistic:', stat)\n",
    "print('p-value:', p)"
   ]
  },
  {
   "cell_type": "code",
   "execution_count": 11,
   "metadata": {},
   "outputs": [
    {
     "name": "stdout",
     "output_type": "stream",
     "text": [
      "Test statistic: 0.4088405966758728\n",
      "p-value: 2.4753798479131754e-24\n"
     ]
    }
   ],
   "source": [
    "stat, p = stats.shapiro(df['Mortality_Epidemics'])\n",
    "print('Test statistic:', stat)\n",
    "print('p-value:', p)"
   ]
  },
  {
   "cell_type": "code",
   "execution_count": 12,
   "metadata": {},
   "outputs": [
    {
     "name": "stdout",
     "output_type": "stream",
     "text": [
      "Test statistic: 0.4771931767463684\n",
      "p-value: 4.2165659835901594e-23\n"
     ]
    }
   ],
   "source": [
    "stat, p = stats.shapiro(df['No_Natural_Disasters'])\n",
    "print('Test statistic:', stat)\n",
    "print('p-value:', p)"
   ]
  },
  {
   "cell_type": "code",
   "execution_count": 13,
   "metadata": {},
   "outputs": [
    {
     "name": "stdout",
     "output_type": "stream",
     "text": [
      "Test statistic: 0.12284862995147705\n",
      "p-value: 1.6166836139582204e-28\n"
     ]
    }
   ],
   "source": [
    "stat, p = stats.shapiro(df['Mortality_Natural Disasters'])\n",
    "print('Test statistic:', stat)\n",
    "print('p-value:', p)"
   ]
  },
  {
   "attachments": {},
   "cell_type": "markdown",
   "metadata": {},
   "source": [
    "Used JMP Pro 16 to tranform the nonnormal data with ranked-based inverse normal tranformation "
   ]
  },
  {
   "cell_type": "code",
   "execution_count": 14,
   "metadata": {},
   "outputs": [],
   "source": [
    "# now calculate correlation coeficients \n",
    "corr_matrix = df[['Average.GDP_INT', 'No_Epidemics_INT', 'No_Natural_Disasters_INT', 'Mortality_Epidemics_INT', 'Mortality_Natural Disasters_INT', 'GCI']].corr()\n"
   ]
  },
  {
   "cell_type": "code",
   "execution_count": 15,
   "metadata": {},
   "outputs": [
    {
     "data": {
      "text/html": [
       "<div>\n",
       "<style scoped>\n",
       "    .dataframe tbody tr th:only-of-type {\n",
       "        vertical-align: middle;\n",
       "    }\n",
       "\n",
       "    .dataframe tbody tr th {\n",
       "        vertical-align: top;\n",
       "    }\n",
       "\n",
       "    .dataframe thead th {\n",
       "        text-align: right;\n",
       "    }\n",
       "</style>\n",
       "<table border=\"1\" class=\"dataframe\">\n",
       "  <thead>\n",
       "    <tr style=\"text-align: right;\">\n",
       "      <th></th>\n",
       "      <th>Average.GDP_INT</th>\n",
       "      <th>No_Epidemics_INT</th>\n",
       "      <th>No_Natural_Disasters_INT</th>\n",
       "      <th>Mortality_Epidemics_INT</th>\n",
       "      <th>Mortality_Natural Disasters_INT</th>\n",
       "      <th>GCI</th>\n",
       "    </tr>\n",
       "  </thead>\n",
       "  <tbody>\n",
       "    <tr>\n",
       "      <th>Average.GDP_INT</th>\n",
       "      <td>1.000000</td>\n",
       "      <td>0.053916</td>\n",
       "      <td>0.478345</td>\n",
       "      <td>-0.097562</td>\n",
       "      <td>0.001214</td>\n",
       "      <td>-0.496772</td>\n",
       "    </tr>\n",
       "    <tr>\n",
       "      <th>No_Epidemics_INT</th>\n",
       "      <td>0.053916</td>\n",
       "      <td>1.000000</td>\n",
       "      <td>0.377796</td>\n",
       "      <td>0.745703</td>\n",
       "      <td>0.282479</td>\n",
       "      <td>0.542443</td>\n",
       "    </tr>\n",
       "    <tr>\n",
       "      <th>No_Natural_Disasters_INT</th>\n",
       "      <td>0.478345</td>\n",
       "      <td>0.377796</td>\n",
       "      <td>1.000000</td>\n",
       "      <td>0.110317</td>\n",
       "      <td>0.628172</td>\n",
       "      <td>0.006008</td>\n",
       "    </tr>\n",
       "    <tr>\n",
       "      <th>Mortality_Epidemics_INT</th>\n",
       "      <td>-0.097562</td>\n",
       "      <td>0.745703</td>\n",
       "      <td>0.110317</td>\n",
       "      <td>1.000000</td>\n",
       "      <td>0.230424</td>\n",
       "      <td>0.413145</td>\n",
       "    </tr>\n",
       "    <tr>\n",
       "      <th>Mortality_Natural Disasters_INT</th>\n",
       "      <td>0.001214</td>\n",
       "      <td>0.282479</td>\n",
       "      <td>0.628172</td>\n",
       "      <td>0.230424</td>\n",
       "      <td>1.000000</td>\n",
       "      <td>0.204183</td>\n",
       "    </tr>\n",
       "    <tr>\n",
       "      <th>GCI</th>\n",
       "      <td>-0.496772</td>\n",
       "      <td>0.542443</td>\n",
       "      <td>0.006008</td>\n",
       "      <td>0.413145</td>\n",
       "      <td>0.204183</td>\n",
       "      <td>1.000000</td>\n",
       "    </tr>\n",
       "  </tbody>\n",
       "</table>\n",
       "</div>"
      ],
      "text/plain": [
       "                                 Average.GDP_INT  No_Epidemics_INT  \\\n",
       "Average.GDP_INT                         1.000000          0.053916   \n",
       "No_Epidemics_INT                        0.053916          1.000000   \n",
       "No_Natural_Disasters_INT                0.478345          0.377796   \n",
       "Mortality_Epidemics_INT                -0.097562          0.745703   \n",
       "Mortality_Natural Disasters_INT         0.001214          0.282479   \n",
       "GCI                                    -0.496772          0.542443   \n",
       "\n",
       "                                 No_Natural_Disasters_INT  \\\n",
       "Average.GDP_INT                                  0.478345   \n",
       "No_Epidemics_INT                                 0.377796   \n",
       "No_Natural_Disasters_INT                         1.000000   \n",
       "Mortality_Epidemics_INT                          0.110317   \n",
       "Mortality_Natural Disasters_INT                  0.628172   \n",
       "GCI                                              0.006008   \n",
       "\n",
       "                                 Mortality_Epidemics_INT  \\\n",
       "Average.GDP_INT                                -0.097562   \n",
       "No_Epidemics_INT                                0.745703   \n",
       "No_Natural_Disasters_INT                        0.110317   \n",
       "Mortality_Epidemics_INT                         1.000000   \n",
       "Mortality_Natural Disasters_INT                 0.230424   \n",
       "GCI                                             0.413145   \n",
       "\n",
       "                                 Mortality_Natural Disasters_INT       GCI  \n",
       "Average.GDP_INT                                         0.001214 -0.496772  \n",
       "No_Epidemics_INT                                        0.282479  0.542443  \n",
       "No_Natural_Disasters_INT                                0.628172  0.006008  \n",
       "Mortality_Epidemics_INT                                 0.230424  0.413145  \n",
       "Mortality_Natural Disasters_INT                         1.000000  0.204183  \n",
       "GCI                                                     0.204183  1.000000  "
      ]
     },
     "execution_count": 15,
     "metadata": {},
     "output_type": "execute_result"
    }
   ],
   "source": [
    "corr_matrix"
   ]
  },
  {
   "cell_type": "code",
   "execution_count": 16,
   "metadata": {},
   "outputs": [
    {
     "name": "stdout",
     "output_type": "stream",
     "text": [
      "Correlation between Average.GDP_INT and GCI: -0.497, p-value: 0.000\n",
      "Correlation between No_Epidemics_INT and GCI: 0.542, p-value: 0.000\n",
      "Correlation between No_Natural_Disasters_INT and GCI: 0.006, p-value: 0.935\n",
      "Correlation between Mortality_Epidemics_INT and GCI: 0.413, p-value: 0.000\n",
      "Correlation between Mortality_Natural Disasters_INT and GCI: 0.204, p-value: 0.005\n"
     ]
    }
   ],
   "source": [
    "#correlation tests\n",
    "from scipy.stats import pearsonr\n",
    "\n",
    "predictors = ['Average.GDP_INT', 'No_Epidemics_INT', 'No_Natural_Disasters_INT', 'Mortality_Epidemics_INT', 'Mortality_Natural Disasters_INT']\n",
    "outcome = 'GCI'\n",
    "\n",
    "for predictor in predictors:\n",
    "    corr_coef, p_value = pearsonr(df[predictor], df[outcome])\n",
    "    print(f\"Correlation between {predictor} and {outcome}: {corr_coef:.3f}, p-value: {p_value:.3f}\")"
   ]
  },
  {
   "cell_type": "code",
   "execution_count": 17,
   "metadata": {},
   "outputs": [],
   "source": [
    "#multiple linear regression \n",
    "import statsmodels.api as sm\n",
    "from statsmodels.stats.outliers_influence import variance_inflation_factor"
   ]
  },
  {
   "cell_type": "code",
   "execution_count": 18,
   "metadata": {},
   "outputs": [],
   "source": [
    "X = df[['Average.GDP_INT', 'No_Epidemics_INT', 'Mortality_Natural Disasters_INT']]\n",
    "y = df['GCI']\n"
   ]
  },
  {
   "cell_type": "code",
   "execution_count": 21,
   "metadata": {},
   "outputs": [],
   "source": [
    "#add a constant to predictor variables to fit the intercept\n",
    "X = sm.add_constant(X)\n"
   ]
  },
  {
   "cell_type": "code",
   "execution_count": 22,
   "metadata": {},
   "outputs": [
    {
     "name": "stdout",
     "output_type": "stream",
     "text": [
      "                            OLS Regression Results                            \n",
      "==============================================================================\n",
      "Dep. Variable:                    GCI   R-squared:                       0.574\n",
      "Model:                            OLS   Adj. R-squared:                  0.567\n",
      "Method:                 Least Squares   F-statistic:                     81.23\n",
      "Date:                Sat, 01 Apr 2023   Prob (F-statistic):           2.47e-33\n",
      "Time:                        21:22:21   Log-Likelihood:                -141.79\n",
      "No. Observations:                 185   AIC:                             291.6\n",
      "Df Residuals:                     181   BIC:                             304.5\n",
      "Df Model:                           3                                         \n",
      "Covariance Type:            nonrobust                                         \n",
      "===================================================================================================\n",
      "                                      coef    std err          t      P>|t|      [0.025      0.975]\n",
      "---------------------------------------------------------------------------------------------------\n",
      "const                               0.0774      0.039      1.997      0.047       0.001       0.154\n",
      "Average.GDP_INT                    -0.4431      0.041    -10.841      0.000      -0.524      -0.362\n",
      "No_Epidemics_INT                    0.4456      0.040     11.003      0.000       0.366       0.525\n",
      "Mortality_Natural Disasters_INT     0.0386      0.041      0.936      0.351      -0.043       0.120\n",
      "==============================================================================\n",
      "Omnibus:                        1.002   Durbin-Watson:                   2.022\n",
      "Prob(Omnibus):                  0.606   Jarque-Bera (JB):                0.654\n",
      "Skew:                           0.012   Prob(JB):                        0.721\n",
      "Kurtosis:                       3.290   Cond. No.                         1.35\n",
      "==============================================================================\n",
      "\n",
      "Notes:\n",
      "[1] Standard Errors assume that the covariance matrix of the errors is correctly specified.\n"
     ]
    }
   ],
   "source": [
    "model = sm.OLS(y, X).fit()\n",
    "print(model.summary())\n"
   ]
  },
  {
   "cell_type": "code",
   "execution_count": 23,
   "metadata": {},
   "outputs": [
    {
     "name": "stdout",
     "output_type": "stream",
     "text": [
      "   VIF Factor                         features\n",
      "0    1.002019                            const\n",
      "1    1.003130                  Average.GDP_INT\n",
      "2    1.090113                 No_Epidemics_INT\n",
      "3    1.086946  Mortality_Natural Disasters_INT\n"
     ]
    }
   ],
   "source": [
    "#VIFs\n",
    "vif = pd.DataFrame()\n",
    "vif[\"VIF Factor\"] = [variance_inflation_factor(X.values, i) for i in range(X.shape[1])]\n",
    "vif[\"features\"] = X.columns\n",
    "print(vif)\n"
   ]
  },
  {
   "cell_type": "code",
   "execution_count": 24,
   "metadata": {},
   "outputs": [
    {
     "name": "stdout",
     "output_type": "stream",
     "text": [
      "                            OLS Regression Results                            \n",
      "==============================================================================\n",
      "Dep. Variable:                      y   R-squared:                       0.574\n",
      "Model:                            OLS   Adj. R-squared:                  0.567\n",
      "Method:                 Least Squares   F-statistic:                     81.23\n",
      "Date:                Sat, 01 Apr 2023   Prob (F-statistic):           2.47e-33\n",
      "Time:                        21:27:27   Log-Likelihood:                -183.61\n",
      "No. Observations:                 185   AIC:                             375.2\n",
      "Df Residuals:                     181   BIC:                             388.1\n",
      "Df Model:                           3                                         \n",
      "Covariance Type:            nonrobust                                         \n",
      "==============================================================================\n",
      "                 coef    std err          t      P>|t|      [0.025      0.975]\n",
      "------------------------------------------------------------------------------\n",
      "const       8.842e-18      0.049   1.82e-16      1.000      -0.096       0.096\n",
      "x1         -1.697e-16    1.2e-17    -14.185      0.000   -1.93e-16   -1.46e-16\n",
      "x2            -0.5269      0.049    -10.841      0.000      -0.623      -0.431\n",
      "x3             0.5575      0.051     11.003      0.000       0.458       0.657\n",
      "x4             0.0473      0.051      0.936      0.351      -0.052       0.147\n",
      "==============================================================================\n",
      "Omnibus:                        1.002   Durbin-Watson:                   2.022\n",
      "Prob(Omnibus):                  0.606   Jarque-Bera (JB):                0.654\n",
      "Skew:                           0.012   Prob(JB):                        0.721\n",
      "Kurtosis:                       3.290   Cond. No.                     6.75e+16\n",
      "==============================================================================\n",
      "\n",
      "Notes:\n",
      "[1] Standard Errors assume that the covariance matrix of the errors is correctly specified.\n",
      "[2] The smallest eigenvalue is 5.23e-32. This might indicate that there are\n",
      "strong multicollinearity problems or that the design matrix is singular.\n"
     ]
    }
   ],
   "source": [
    "from sklearn.preprocessing import scale\n",
    "\n",
    "X_scaled = sm.add_constant(scale(X))\n",
    "model_scaled = sm.OLS(scale(y), X_scaled).fit()\n",
    "print(model_scaled.summary())\n"
   ]
  }
 ],
 "metadata": {
  "kernelspec": {
   "display_name": "Python 3",
   "language": "python",
   "name": "python3"
  },
  "language_info": {
   "codemirror_mode": {
    "name": "ipython",
    "version": 3
   },
   "file_extension": ".py",
   "mimetype": "text/x-python",
   "name": "python",
   "nbconvert_exporter": "python",
   "pygments_lexer": "ipython3",
   "version": "3.11.1"
  },
  "orig_nbformat": 4
 },
 "nbformat": 4,
 "nbformat_minor": 2
}
